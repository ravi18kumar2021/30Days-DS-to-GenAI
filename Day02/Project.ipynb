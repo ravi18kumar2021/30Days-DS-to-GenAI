{
  "nbformat": 4,
  "nbformat_minor": 0,
  "metadata": {
    "colab": {
      "provenance": [],
      "authorship_tag": "ABX9TyN5kwHwKQjSjTXOA6Nc83AY",
      "include_colab_link": true
    },
    "kernelspec": {
      "name": "python3",
      "display_name": "Python 3"
    },
    "language_info": {
      "name": "python"
    }
  },
  "cells": [
    {
      "cell_type": "markdown",
      "metadata": {
        "id": "view-in-github",
        "colab_type": "text"
      },
      "source": [
        "<a href=\"https://colab.research.google.com/github/ravi18kumar2021/30Days-DS-to-GenAI/blob/main/Day02/Project.ipynb\" target=\"_parent\"><img src=\"https://colab.research.google.com/assets/colab-badge.svg\" alt=\"Open In Colab\"/></a>"
      ]
    },
    {
      "cell_type": "code",
      "execution_count": 1,
      "metadata": {
        "id": "N2ZLhQADLtjY"
      },
      "outputs": [],
      "source": [
        "import numpy as np"
      ]
    },
    {
      "cell_type": "markdown",
      "source": [
        "Program Execution:\n",
        "\n",
        "- Ask matrix 1 and matrix 2 elements\n",
        "- ask matrix dimensions\n",
        "- display outputs of various operations"
      ],
      "metadata": {
        "id": "mEGA-zafUuK2"
      }
    },
    {
      "cell_type": "code",
      "source": [
        "def user_inputs():\n",
        "  '''\n",
        "  Prompt the user to input two arrays and their shapes\n",
        "  Returns array1, array2, shape1, shape2\n",
        "  '''\n",
        "  matrix1_inputs = input('Enter elements of matrix 1 separated by spaces : ')\n",
        "  matrix2_inputs = input('Enter elements of matrix 2 separated by spaces : ')\n",
        "  array1 = np.array(list(map(int, matrix1_inputs.split())))\n",
        "  array2 = np.array(list(map(int, matrix2_inputs.split())))\n",
        "  matrix1_shape = input('Enter shape of matrix 1 separated by a space : ')\n",
        "  matrix2_shape = input('Enter shape of matrix 2 separated by a space : ')\n",
        "  shape1 = tuple(map(int, matrix1_shape.split()))\n",
        "  shape2 = tuple(map(int, matrix2_shape.split()))\n",
        "  return array1, array2, shape1, shape2"
      ],
      "metadata": {
        "id": "iC7kGU6wMuXP"
      },
      "execution_count": 4,
      "outputs": []
    },
    {
      "cell_type": "code",
      "source": [
        "\n",
        "def perform_operations(matrix1, matrix2):\n",
        "  '''\n",
        "  Returns the outputs of various operations performed on two matrices\n",
        "  '''\n",
        "  try:\n",
        "    addition = multiplication = dot_product = None\n",
        "    if matrix1.shape == matrix2.shape:\n",
        "      addition = np.add(matrix1, matrix2)\n",
        "      multiplication = np.multiply(matrix1, matrix2)\n",
        "    if (matrix1.shape[1] == matrix2.shape[0]):\n",
        "      dot_product = np.dot(matrix1, matrix2)\n",
        "    transpose1 = matrix1.T\n",
        "    transpose2 = matrix2.T\n",
        "    return addition, multiplication, dot_product, transpose1, transpose2\n",
        "  except Exception as error:\n",
        "    print('Error during operation :', error)"
      ],
      "metadata": {
        "id": "_eMYK2bB8FWG"
      },
      "execution_count": 5,
      "outputs": []
    },
    {
      "cell_type": "code",
      "source": [
        "def display(title, operation):\n",
        "  '''\n",
        "  Prints title and the result of the corresponding matrix operation\n",
        "  '''\n",
        "  print()\n",
        "  print(title)\n",
        "  print(operation if operation is not None else \"Not Applicable\")\n",
        "  print()"
      ],
      "metadata": {
        "id": "TCvqMD0Y8IYP"
      },
      "execution_count": 6,
      "outputs": []
    },
    {
      "cell_type": "code",
      "source": [
        "def matrix_calculator():\n",
        "  '''\n",
        "  Returns Various Matrix Operations performed on Matrix 1 and Matrix 2\n",
        "  '''\n",
        "  try:\n",
        "    array1, array2, shape1, shape2 = user_inputs()\n",
        "    matrix1 = array1.reshape(shape1)\n",
        "    matrix2 = array2.reshape(shape2)\n",
        "    addition, multiplication, dot_product, transpose1, transpose2 = perform_operations(matrix1, matrix2)\n",
        "    display('Addition:-', addition)\n",
        "    display('Multiplication:-', multiplication)\n",
        "    display('Dot Product:-', dot_product)\n",
        "    display('Transpose of Matrix 1:-', transpose1)\n",
        "    display('Transpose of Matrix 2:-', transpose2)\n",
        "  except Exception as error:\n",
        "    print('Error :', error)"
      ],
      "metadata": {
        "id": "s_aes-Yv8Ku4"
      },
      "execution_count": 7,
      "outputs": []
    },
    {
      "cell_type": "code",
      "source": [
        "matrix_calculator()"
      ],
      "metadata": {
        "colab": {
          "base_uri": "https://localhost:8080/"
        },
        "id": "VelCnb4QQIt7",
        "outputId": "116acc3c-d42c-4a8c-fe9d-d88d9dc06501"
      },
      "execution_count": 8,
      "outputs": [
        {
          "output_type": "stream",
          "name": "stdout",
          "text": [
            "Enter elements of matrix 1 separated by spaces : 3 5 8 3 1 3\n",
            "Enter elements of matrix 2 separated by spaces : 2 3 5 7 2 2\n",
            "Enter shape of matrix 1 separated by a space : 2 3\n",
            "Enter shape of matrix 2 separated by a space : 2 3\n",
            "\n",
            "Addition:-\n",
            "[[ 5  8 13]\n",
            " [10  3  5]]\n",
            "\n",
            "\n",
            "Multiplication:-\n",
            "[[ 6 15 40]\n",
            " [21  2  6]]\n",
            "\n",
            "\n",
            "Dot Product:-\n",
            "Not Applicable\n",
            "\n",
            "\n",
            "Transpose of Matrix 1:-\n",
            "[[3 3]\n",
            " [5 1]\n",
            " [8 3]]\n",
            "\n",
            "\n",
            "Transpose of Matrix 2:-\n",
            "[[2 7]\n",
            " [3 2]\n",
            " [5 2]]\n",
            "\n"
          ]
        }
      ]
    },
    {
      "cell_type": "code",
      "source": [],
      "metadata": {
        "id": "PM3ydBq28ZXE"
      },
      "execution_count": null,
      "outputs": []
    }
  ]
}