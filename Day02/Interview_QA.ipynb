{
  "nbformat": 4,
  "nbformat_minor": 0,
  "metadata": {
    "colab": {
      "provenance": [],
      "authorship_tag": "ABX9TyOzPfNG/7KlE8P/3ZMcYV1Q",
      "include_colab_link": true
    },
    "kernelspec": {
      "name": "python3",
      "display_name": "Python 3"
    },
    "language_info": {
      "name": "python"
    }
  },
  "cells": [
    {
      "cell_type": "markdown",
      "metadata": {
        "id": "view-in-github",
        "colab_type": "text"
      },
      "source": [
        "<a href=\"https://colab.research.google.com/github/ravi18kumar2021/30Days-DS-to-GenAI/blob/main/Day02/Interview_QA.ipynb\" target=\"_parent\"><img src=\"https://colab.research.google.com/assets/colab-badge.svg\" alt=\"Open In Colab\"/></a>"
      ]
    },
    {
      "cell_type": "markdown",
      "source": [
        "### ❓ Interview Questions"
      ],
      "metadata": {
        "id": "PG-TKWFw_aWp"
      }
    },
    {
      "cell_type": "markdown",
      "source": [
        "**1. What is broadcasting in NumPy?**"
      ],
      "metadata": {
        "id": "5BFqolKy_kV3"
      }
    },
    {
      "cell_type": "markdown",
      "source": [
        "**Ans:** Broadcasting is a special feature of NumPy arrays. In element-wise operations, the smaller array is automatically expanded to match the shape of the larger array."
      ],
      "metadata": {
        "id": "I5tVX-vv_kSZ"
      }
    },
    {
      "cell_type": "code",
      "source": [
        "import numpy as np"
      ],
      "metadata": {
        "id": "NVHLfa2hEOZM"
      },
      "execution_count": 3,
      "outputs": []
    },
    {
      "cell_type": "code",
      "source": [
        "arr1 = np.array([[3, 4, 1], [5, 3, 7]])\n",
        "arr1"
      ],
      "metadata": {
        "colab": {
          "base_uri": "https://localhost:8080/"
        },
        "id": "rkOPQ4TzD7tA",
        "outputId": "d5bf0f46-9c36-4749-9603-fe07778966e9"
      },
      "execution_count": 8,
      "outputs": [
        {
          "output_type": "execute_result",
          "data": {
            "text/plain": [
              "array([[3, 4, 1],\n",
              "       [5, 3, 7]])"
            ]
          },
          "metadata": {},
          "execution_count": 8
        }
      ]
    },
    {
      "cell_type": "code",
      "source": [
        "arr2 = np.array([5, 3, 8])\n",
        "arr2"
      ],
      "metadata": {
        "colab": {
          "base_uri": "https://localhost:8080/"
        },
        "id": "PDBSy1_CEXkt",
        "outputId": "0d6b950a-f4b4-4c17-af16-c52b59cb5539"
      },
      "execution_count": 9,
      "outputs": [
        {
          "output_type": "execute_result",
          "data": {
            "text/plain": [
              "array([5, 3, 8])"
            ]
          },
          "metadata": {},
          "execution_count": 9
        }
      ]
    },
    {
      "cell_type": "code",
      "source": [
        "arr1 + arr2"
      ],
      "metadata": {
        "colab": {
          "base_uri": "https://localhost:8080/"
        },
        "id": "UVAG3fgPEXS_",
        "outputId": "7152d9ab-a0db-46e9-8737-e881b5305ceb"
      },
      "execution_count": 10,
      "outputs": [
        {
          "output_type": "execute_result",
          "data": {
            "text/plain": [
              "array([[ 8,  7,  9],\n",
              "       [10,  6, 15]])"
            ]
          },
          "metadata": {},
          "execution_count": 10
        }
      ]
    },
    {
      "cell_type": "markdown",
      "source": [
        "**2. How do you calculate the dot product using NumPy?**"
      ],
      "metadata": {
        "id": "zYAmMAb2_kP-"
      }
    },
    {
      "cell_type": "code",
      "source": [
        "np.dot(arr1, arr2)"
      ],
      "metadata": {
        "colab": {
          "base_uri": "https://localhost:8080/"
        },
        "id": "IKCWBghREseW",
        "outputId": "46f9cae2-69d5-4ea1-d81f-00a9d7ac00d8"
      },
      "execution_count": 11,
      "outputs": [
        {
          "output_type": "execute_result",
          "data": {
            "text/plain": [
              "array([35, 90])"
            ]
          },
          "metadata": {},
          "execution_count": 11
        }
      ]
    },
    {
      "cell_type": "code",
      "source": [
        "arr1 @ arr2"
      ],
      "metadata": {
        "colab": {
          "base_uri": "https://localhost:8080/"
        },
        "id": "niQA9EngEv_E",
        "outputId": "6799bc3e-1d12-4b66-8a9e-e166ef3ce199"
      },
      "execution_count": 12,
      "outputs": [
        {
          "output_type": "execute_result",
          "data": {
            "text/plain": [
              "array([35, 90])"
            ]
          },
          "metadata": {},
          "execution_count": 12
        }
      ]
    },
    {
      "cell_type": "markdown",
      "source": [
        "**3. How does NumPy achieve faster performance than regular Python?**"
      ],
      "metadata": {
        "id": "yKRd-cwD_kMd"
      }
    },
    {
      "cell_type": "markdown",
      "source": [
        "**Ans:** Since, NumPy is written in C language, its implementation allows fast access to contiguous memory which enables it to perform vectorized operations more effiently."
      ],
      "metadata": {
        "id": "aX6P7Kht_kJ4"
      }
    },
    {
      "cell_type": "markdown",
      "source": [
        "**4. What is the shape vs. size of a NumPy array?**"
      ],
      "metadata": {
        "id": "J5RkRuD8_kHL"
      }
    },
    {
      "cell_type": "markdown",
      "source": [
        "**Ans:** The shape property of NumPy array gives information of number of items along each axis in a particular dimension.\n",
        "\n",
        "Whereas, the size property denotes the number of total elements in the array."
      ],
      "metadata": {
        "id": "rR-ZwqVT_kEo"
      }
    },
    {
      "cell_type": "code",
      "execution_count": 24,
      "metadata": {
        "colab": {
          "base_uri": "https://localhost:8080/"
        },
        "id": "thVexy2f_KlS",
        "outputId": "c8a833f8-74e9-49b1-b74d-04e14998d41b"
      },
      "outputs": [
        {
          "output_type": "execute_result",
          "data": {
            "text/plain": [
              "(3, 2)"
            ]
          },
          "metadata": {},
          "execution_count": 24
        }
      ],
      "source": [
        "arr1 = np.array([[3, 5], [1, 4], [3, 7]])\n",
        "arr1.shape"
      ]
    },
    {
      "cell_type": "code",
      "source": [
        "arr2 = np.array([[[2, 5], [4, 3]]])\n",
        "arr2.shape"
      ],
      "metadata": {
        "colab": {
          "base_uri": "https://localhost:8080/"
        },
        "id": "7glhPPqBRBbL",
        "outputId": "6d6f489d-3584-4999-9a7c-c47b1f7039ea"
      },
      "execution_count": 26,
      "outputs": [
        {
          "output_type": "execute_result",
          "data": {
            "text/plain": [
              "(1, 2, 2)"
            ]
          },
          "metadata": {},
          "execution_count": 26
        }
      ]
    },
    {
      "cell_type": "code",
      "source": [
        "arr1.size"
      ],
      "metadata": {
        "colab": {
          "base_uri": "https://localhost:8080/"
        },
        "id": "G815y2qjR6C9",
        "outputId": "1d5d579f-564b-4dc7-e628-03ca84f19e63"
      },
      "execution_count": 27,
      "outputs": [
        {
          "output_type": "execute_result",
          "data": {
            "text/plain": [
              "6"
            ]
          },
          "metadata": {},
          "execution_count": 27
        }
      ]
    },
    {
      "cell_type": "code",
      "source": [
        "arr2.size"
      ],
      "metadata": {
        "colab": {
          "base_uri": "https://localhost:8080/"
        },
        "id": "6Lv9V7wPR9z3",
        "outputId": "0852ed70-f7b6-462b-ee79-15a6b19d30b0"
      },
      "execution_count": 28,
      "outputs": [
        {
          "output_type": "execute_result",
          "data": {
            "text/plain": [
              "4"
            ]
          },
          "metadata": {},
          "execution_count": 28
        }
      ]
    },
    {
      "cell_type": "markdown",
      "source": [
        "**5. What’s the difference between a[0] and a[[0]]?**"
      ],
      "metadata": {
        "id": "Y-TmwXzBSOe0"
      }
    },
    {
      "cell_type": "markdown",
      "source": [
        "**Ans:** a[0] returns a view that is one dimension lower than the original array.\n",
        "\n",
        "Whereas a[[0]] return a sub-array with the same number of dimension of the original array."
      ],
      "metadata": {
        "id": "GPv2c8FGSff5"
      }
    },
    {
      "cell_type": "code",
      "source": [
        "a = np.array([2, 3, 6]) # 1D array\n",
        "a"
      ],
      "metadata": {
        "colab": {
          "base_uri": "https://localhost:8080/"
        },
        "id": "WbduhJxISJby",
        "outputId": "159ca116-a6f3-4c3c-e209-aaf514b435c7"
      },
      "execution_count": 44,
      "outputs": [
        {
          "output_type": "execute_result",
          "data": {
            "text/plain": [
              "array([2, 3, 6])"
            ]
          },
          "metadata": {},
          "execution_count": 44
        }
      ]
    },
    {
      "cell_type": "code",
      "source": [
        "a[0] # one dimension lower than 1D"
      ],
      "metadata": {
        "colab": {
          "base_uri": "https://localhost:8080/"
        },
        "id": "lhMQbtJjSZm3",
        "outputId": "20a86c86-b3d6-4093-9b65-b6356bd34b45"
      },
      "execution_count": 45,
      "outputs": [
        {
          "output_type": "execute_result",
          "data": {
            "text/plain": [
              "np.int64(2)"
            ]
          },
          "metadata": {},
          "execution_count": 45
        }
      ]
    },
    {
      "cell_type": "code",
      "source": [
        "a[[0]] # 1D array"
      ],
      "metadata": {
        "colab": {
          "base_uri": "https://localhost:8080/"
        },
        "id": "QFBSPcjOSaIU",
        "outputId": "9d7d425f-8587-48b3-b69d-8196e133812e"
      },
      "execution_count": 46,
      "outputs": [
        {
          "output_type": "execute_result",
          "data": {
            "text/plain": [
              "array([2])"
            ]
          },
          "metadata": {},
          "execution_count": 46
        }
      ]
    },
    {
      "cell_type": "code",
      "source": [
        "b = np.array([[3, 5, 6], [2, 4, 5]]) # 2D array\n",
        "b"
      ],
      "metadata": {
        "colab": {
          "base_uri": "https://localhost:8080/"
        },
        "id": "XKqm77CJSdGY",
        "outputId": "681cfb56-8227-4dce-a910-38409d77cd0c"
      },
      "execution_count": 47,
      "outputs": [
        {
          "output_type": "execute_result",
          "data": {
            "text/plain": [
              "array([[3, 5, 6],\n",
              "       [2, 4, 5]])"
            ]
          },
          "metadata": {},
          "execution_count": 47
        }
      ]
    },
    {
      "cell_type": "code",
      "source": [
        "b[0] # one dimension lower than 2D"
      ],
      "metadata": {
        "colab": {
          "base_uri": "https://localhost:8080/"
        },
        "id": "TU9UviG6UGZV",
        "outputId": "f42f6916-965f-4481-d977-79e1cc395582"
      },
      "execution_count": 48,
      "outputs": [
        {
          "output_type": "execute_result",
          "data": {
            "text/plain": [
              "array([3, 5, 6])"
            ]
          },
          "metadata": {},
          "execution_count": 48
        }
      ]
    },
    {
      "cell_type": "code",
      "source": [
        "b[[0]] # 2D array"
      ],
      "metadata": {
        "colab": {
          "base_uri": "https://localhost:8080/"
        },
        "id": "ynjyoSQjUHTd",
        "outputId": "ff4af4af-d84d-4435-9226-f99baaa6525b"
      },
      "execution_count": 49,
      "outputs": [
        {
          "output_type": "execute_result",
          "data": {
            "text/plain": [
              "array([[3, 5, 6]])"
            ]
          },
          "metadata": {},
          "execution_count": 49
        }
      ]
    },
    {
      "cell_type": "code",
      "source": [
        "c = np.array([[[2, 5, 6], [1, 5, 7]]]) # 3D array\n",
        "c"
      ],
      "metadata": {
        "colab": {
          "base_uri": "https://localhost:8080/"
        },
        "id": "iy5EXw0rUICU",
        "outputId": "f6255966-6d25-47d8-f33b-8cce8782c5ff"
      },
      "execution_count": 50,
      "outputs": [
        {
          "output_type": "execute_result",
          "data": {
            "text/plain": [
              "array([[[2, 5, 6],\n",
              "        [1, 5, 7]]])"
            ]
          },
          "metadata": {},
          "execution_count": 50
        }
      ]
    },
    {
      "cell_type": "code",
      "source": [
        "c[0] # one dimension lower than 3D"
      ],
      "metadata": {
        "colab": {
          "base_uri": "https://localhost:8080/"
        },
        "id": "V2zVaftvUYrt",
        "outputId": "ff7d1007-4cbd-4381-88a0-193ac7466cf7"
      },
      "execution_count": 51,
      "outputs": [
        {
          "output_type": "execute_result",
          "data": {
            "text/plain": [
              "array([[2, 5, 6],\n",
              "       [1, 5, 7]])"
            ]
          },
          "metadata": {},
          "execution_count": 51
        }
      ]
    },
    {
      "cell_type": "code",
      "source": [
        "c[[0]] # 3D array"
      ],
      "metadata": {
        "colab": {
          "base_uri": "https://localhost:8080/"
        },
        "id": "jsfsggWZUZoc",
        "outputId": "ed6f0f9f-fce0-4070-abfa-bab66f627423"
      },
      "execution_count": 52,
      "outputs": [
        {
          "output_type": "execute_result",
          "data": {
            "text/plain": [
              "array([[[2, 5, 6],\n",
              "        [1, 5, 7]]])"
            ]
          },
          "metadata": {},
          "execution_count": 52
        }
      ]
    }
  ]
}