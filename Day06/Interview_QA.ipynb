{
  "nbformat": 4,
  "nbformat_minor": 0,
  "metadata": {
    "colab": {
      "provenance": [],
      "authorship_tag": "ABX9TyMY8tD6qG9yE1iUCkTvBCd/",
      "include_colab_link": true
    },
    "kernelspec": {
      "name": "python3",
      "display_name": "Python 3"
    },
    "language_info": {
      "name": "python"
    }
  },
  "cells": [
    {
      "cell_type": "markdown",
      "metadata": {
        "id": "view-in-github",
        "colab_type": "text"
      },
      "source": [
        "<a href=\"https://colab.research.google.com/github/ravi18kumar2021/30Days-DS-to-GenAI/blob/main/Day06/Interview_QA.ipynb\" target=\"_parent\"><img src=\"https://colab.research.google.com/assets/colab-badge.svg\" alt=\"Open In Colab\"/></a>"
      ]
    },
    {
      "cell_type": "markdown",
      "source": [
        "### ❓ Interview Questions"
      ],
      "metadata": {
        "id": "IyChdOrgOIyh"
      }
    },
    {
      "cell_type": "markdown",
      "source": [
        "**1. What is EDA and why is it important?**\n",
        "\n",
        "**Ans:** Before building any model, EDA is a crucial first step to ensure that the data is clean, meaningful and ready for machine learning. In simple terms, EDA is the process of analyzing and summarizing a dataset to gain insights. It helps in understanding the structure of the data, detecting potential issues like missing values or outliers and uncovering patterns that can guide further modeling.\n",
        "\n",
        "Importance:\n",
        "- Detects missing values, outliers and data type issues.\n",
        "- Identifies relationships between features and the target variable.\n",
        "- Helps prevent the risk of garbage-in and garbage-out modeling.\n",
        "- Guides feature selection, engineering and transformation."
      ],
      "metadata": {
        "id": "xiDUPqfuOIvF"
      }
    },
    {
      "cell_type": "markdown",
      "source": [
        "**2. How do you detect correlation between variables?**\n",
        "\n",
        "**Ans:** There are some quantitative methods for EDA:\n",
        "- `df.corr()` - Computes Pearson correlation for numerical features.\n",
        "- `.groupby(target_column).mean()` - Helps explore relationships between categorical and the target column.\n",
        "\n",
        "Importance:\n",
        "- Highly correlated features can lead to multicollinearity, which may distort models like linear or logistic regression.\n",
        "- Strong correlation between features and the target variable can guide feature selection."
      ],
      "metadata": {
        "id": "eFcJNXbhOIsv"
      }
    },
    {
      "cell_type": "markdown",
      "source": [
        "**3. What is class imbalance and how do you handle it?**"
      ],
      "metadata": {
        "id": "-_uHate3OInp"
      }
    },
    {
      "cell_type": "markdown",
      "source": [
        "**Ans:** Class imbalance occurs when one class significantly outnumbers another in a classification problem (e.g., 95% No, 5% Yes).\n",
        "\n",
        "Risks include:\n",
        "- The modal may overfit to the majority class\n",
        "- The accuracy becomes misleading\n",
        "\n",
        "Techniques to overcome:\n",
        "- Resampling methods like oversampling minority (SMOTE), undersampling majority.\n",
        "- Using class weights in the model.\n",
        "- Use proper metrics (f1-score, recall/precision, instead of accuracy)."
      ],
      "metadata": {
        "id": "VvLaoppAOIkz"
      }
    },
    {
      "cell_type": "markdown",
      "source": [
        "**4. What insights would you extract from a dataset before modeling?**"
      ],
      "metadata": {
        "id": "xQxRoD4aOIht"
      }
    },
    {
      "cell_type": "markdown",
      "source": [
        "**Ans:** Before modeling, I will extract:\n",
        "- Data Quality checks like missing values, outliers, incorrect data types, duplicates or inconsistent labels.\n",
        "- Summary statistics like mean, median, std. Correlation matrix and feature skewness.\n",
        "- Class imbalance (for classification).\n",
        "- Multicollinearity between features.\n",
        "- Relationship between features and target."
      ],
      "metadata": {
        "id": "p5D5FQ0hOIb8"
      }
    },
    {
      "cell_type": "markdown",
      "source": [],
      "metadata": {
        "id": "2i6pqdLoOIYR"
      }
    },
    {
      "cell_type": "markdown",
      "source": [],
      "metadata": {
        "id": "q3qTNsNrOIWa"
      }
    },
    {
      "cell_type": "markdown",
      "source": [],
      "metadata": {
        "id": "1D-Z1ejxOITB"
      }
    },
    {
      "cell_type": "markdown",
      "source": [],
      "metadata": {
        "id": "rsndqfDhOIQh"
      }
    },
    {
      "cell_type": "code",
      "execution_count": null,
      "metadata": {
        "id": "2OqoUbtSN5xF"
      },
      "outputs": [],
      "source": []
    }
  ]
}