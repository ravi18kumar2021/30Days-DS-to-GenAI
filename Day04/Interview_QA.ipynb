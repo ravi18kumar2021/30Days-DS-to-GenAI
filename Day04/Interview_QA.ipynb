{
  "nbformat": 4,
  "nbformat_minor": 0,
  "metadata": {
    "colab": {
      "provenance": [],
      "authorship_tag": "ABX9TyNG4+k4ELxeQAveZ+8ZCSTA",
      "include_colab_link": true
    },
    "kernelspec": {
      "name": "python3",
      "display_name": "Python 3"
    },
    "language_info": {
      "name": "python"
    }
  },
  "cells": [
    {
      "cell_type": "markdown",
      "metadata": {
        "id": "view-in-github",
        "colab_type": "text"
      },
      "source": [
        "<a href=\"https://colab.research.google.com/github/ravi18kumar2021/30Days-DS-to-GenAI/blob/main/Day04/Interview_QA.ipynb\" target=\"_parent\"><img src=\"https://colab.research.google.com/assets/colab-badge.svg\" alt=\"Open In Colab\"/></a>"
      ]
    },
    {
      "cell_type": "markdown",
      "source": [
        "###❓ Interview Questions"
      ],
      "metadata": {
        "id": "p2_4P-4w9Kuk"
      }
    },
    {
      "cell_type": "markdown",
      "source": [
        "**1. What is Linear Regression?**\n",
        "\n",
        "**Ans:** It is a supervised learning algorithm used to find a linear relationship between independent input features and a dependent variable to predict continuous outcomes."
      ],
      "metadata": {
        "id": "wyzP5e179KrN"
      }
    },
    {
      "cell_type": "markdown",
      "source": [
        "**2. What is the cost function in Linear Regression?**\n",
        "\n",
        "**Ans:** A cost function measures how far the predicted values from the actual values. In linear regression, we use mean squared error as the cost function. It helps in minimizing the cost to find the best fit line.\n",
        "\n",
        "$MSE = \\frac{1}{n}\\sum_{i=1}^n(y_i - \\hat y_i)$"
      ],
      "metadata": {
        "id": "_-iQtMqc9Kon"
      }
    },
    {
      "cell_type": "markdown",
      "source": [
        "**3. What does R² score tell us?**\n",
        "\n",
        "**Ans:** R² is the coefficient of determination. It tells us the proportion of variance in the target variable that is explained by the independent variables in the model.\n",
        "- R² = 1: The model perfectly fits the data.\n",
        "- R² = 0: The model does no better than predicting the mean of the target.\n",
        "- R² < 0: The model performs worse than predicting the mean.\n",
        "\n",
        "It is calculated as:\n",
        "$R^2 = 1 - \\frac{SS_{res}}{SS_{total}}$\n",
        "\n",
        "where $SS_{res}:$ residual sum of squares, $SS_{total}:$ total sum of squares"
      ],
      "metadata": {
        "id": "zmc2AZ1T9Km3"
      }
    },
    {
      "cell_type": "markdown",
      "source": [
        "**4. What is multicollinearity?**\n",
        "**Ans:** Multicollinearity occurs when two or more independent variables are highly correlated with each other, making it difficult to determine the individual effect of each feature.\n",
        "\n",
        "It can lead to:\n",
        "- Unstable coefficient estimates\n",
        "- High variance\n",
        "- Difficult model interpretation\n",
        "\n",
        "It can be detected using:\n",
        "- Correlation matrix\n",
        "- Variance Inflation Factor (VIF)"
      ],
      "metadata": {
        "id": "NOXEuZYl9KlB"
      }
    },
    {
      "cell_type": "markdown",
      "source": [
        "**5. How to detect overfitting?**\n",
        "\n",
        "**Ans:** Overfitting happens when a model memorizes the training data instead of learning general patterns, resulting in poor performance on new, unseen data.\n",
        "\n",
        "The following ways to detect overfitting:\n",
        "- After train-test split, if the model performance in testing data is worse than the training data.\n",
        "- Use Cross-Validation\n",
        "- Plot learning curves\n",
        "- Monitor high variance metrics"
      ],
      "metadata": {
        "id": "s5Mdf7Rj9Kie"
      }
    },
    {
      "cell_type": "markdown",
      "source": [
        "**6. What’s the difference between MAE and RMSE?**\n",
        "\n",
        "**Ans:** MAE or Mean Absolute Error is the average of absolute errors. It is less sensitive to outliers.\n",
        "\n",
        "Whereas, RMSE or Root Mean Squared Error is the square root of the average squared errors. It is more sensitive to large errors."
      ],
      "metadata": {
        "id": "_RHGJwMB9KfV"
      }
    },
    {
      "cell_type": "markdown",
      "source": [
        "**7. What metrics are used to evaluate a regression model?**\n",
        "\n",
        "**Ans:** The following metrics are used to evaluate regression model:\n",
        "- $R^2:$ How much variance is explained\n",
        "- $MAE:$ Average Absolute Error\n",
        "- $MSE:$ Penalizes Squared Error\n",
        "- $RMSE:$ Penalizes large errors even more"
      ],
      "metadata": {
        "id": "K8UxLuk-9Kc7"
      }
    },
    {
      "cell_type": "markdown",
      "source": [
        "**8. What does the slope in the $y = mx + b$ represents?**\n",
        "\n",
        "**Ans:** It represents the average change in the target for every 1-unit change in the input feature, assuming all others features are constant."
      ],
      "metadata": {
        "id": "BEFpoPl49KaY"
      }
    },
    {
      "cell_type": "markdown",
      "source": [
        "**9. What's the difference between SSE and MSE?**\n",
        "\n",
        "**Ans:** Sum of Squared Error is used in Ordinary Least Square (OLS) derivation. Whereas, Mean Squared Error is used in evaluation."
      ],
      "metadata": {
        "id": "_Kqa-VY-TFd4"
      }
    }
  ]
}