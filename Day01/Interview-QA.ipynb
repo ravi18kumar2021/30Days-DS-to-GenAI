{
  "nbformat": 4,
  "nbformat_minor": 0,
  "metadata": {
    "colab": {
      "provenance": [],
      "authorship_tag": "ABX9TyO79rt6pGidTnVfZygXbD82",
      "include_colab_link": true
    },
    "kernelspec": {
      "name": "python3",
      "display_name": "Python 3"
    },
    "language_info": {
      "name": "python"
    }
  },
  "cells": [
    {
      "cell_type": "markdown",
      "metadata": {
        "id": "view-in-github",
        "colab_type": "text"
      },
      "source": [
        "<a href=\"https://colab.research.google.com/github/ravi18kumar2021/30Days-DS-to-GenAI/blob/main/Day01/Interview-QA.ipynb\" target=\"_parent\"><img src=\"https://colab.research.google.com/assets/colab-badge.svg\" alt=\"Open In Colab\"/></a>"
      ]
    },
    {
      "cell_type": "markdown",
      "source": [
        "### ❓ Interview Questions"
      ],
      "metadata": {
        "id": "adzjOCTw6q8Z"
      }
    },
    {
      "cell_type": "markdown",
      "source": [
        "1. What is the difference between list, tuple, and set?"
      ],
      "metadata": {
        "id": "67PRMJar6uX1"
      }
    },
    {
      "cell_type": "markdown",
      "source": [
        "Ans: Lists are ordered and mutable data structure. So, after creating a list, we can modify its content. It also allows duplicate items.\n",
        "\n",
        "In other hand, Tuples are ordered but are immutable data structure. It means, once the tuple has been created with certain items, then we can't modify it later. Like lists, it also allows duplicate items.\n",
        "\n",
        "Sets are different from these two data structures. It is unordered data structure, it means we can't access its item using index, there is no any index things involved in set. But it allows to add or remove its content after its creation. Unlike lists and tuples, it doesn't allow duplicate values. It means it only holds unique items."
      ],
      "metadata": {
        "id": "39ZFwp8f6uUY"
      }
    },
    {
      "cell_type": "markdown",
      "source": [
        "2. Explain lambda functions with an example."
      ],
      "metadata": {
        "id": "FevZkU8Y6uRm"
      }
    },
    {
      "cell_type": "markdown",
      "source": [
        "Ans: Lambda is an anonymous one liner function that doesn't require any name. It is mainly used for one time and short operations use. It comes handy in such scenario when we want to apply a quick functional logic without creating a normal def function in the whole program.\n",
        "\n",
        "\n",
        "This lambda function makes squared value of each item of an iterable."
      ],
      "metadata": {
        "id": "aWrdyuGS6uPH"
      }
    },
    {
      "cell_type": "code",
      "source": [
        "a = [4, 5, 2, 6]\n",
        "list(map(lambda x: x**2, a))"
      ],
      "metadata": {
        "colab": {
          "base_uri": "https://localhost:8080/"
        },
        "id": "5dxyUiTpKxd7",
        "outputId": "8a13c840-bb25-4bdd-a89b-b2aa2cff65e8"
      },
      "execution_count": 28,
      "outputs": [
        {
          "output_type": "execute_result",
          "data": {
            "text/plain": [
              "[16, 25, 4, 36]"
            ]
          },
          "metadata": {},
          "execution_count": 28
        }
      ]
    },
    {
      "cell_type": "markdown",
      "source": [
        "3. What is the difference between shallow and deep copy?"
      ],
      "metadata": {
        "id": "iJXJpQKb6uLM"
      }
    },
    {
      "cell_type": "markdown",
      "source": [
        "Ans: Shallow copy copies the main object but not its inner objects. It creates a new object, but the inner objects are still references to the same objects in the original data. So, if try to modify the content of shallow copy, the changes will reflect in the original object as well.\n",
        "\n",
        "Whereas, deep copy copies the entire main object along with its inner objects. Here, instead of copying references of the object, it creates a independent copies so as a result deep copy do not affect the original object and vice versa."
      ],
      "metadata": {
        "id": "QG5fo4pM6uEX"
      }
    },
    {
      "cell_type": "code",
      "source": [
        "import copy\n",
        "original = [[3, 5], 4, [2, 5, 8]]\n",
        "shallow_copy = copy.copy(original)\n",
        "deep_copy = copy.deepcopy(original)"
      ],
      "metadata": {
        "id": "ZeUMCKa1Jwue"
      },
      "execution_count": 22,
      "outputs": []
    },
    {
      "cell_type": "code",
      "source": [
        "shallow_copy[0][1] = 7\n",
        "shallow_copy[1] = 0\n",
        "print(original)\n",
        "print(shallow_copy)"
      ],
      "metadata": {
        "colab": {
          "base_uri": "https://localhost:8080/"
        },
        "id": "eAiPosPdKFg0",
        "outputId": "fd9ef357-8ccf-4d21-e653-c5840c963e2d"
      },
      "execution_count": 25,
      "outputs": [
        {
          "output_type": "stream",
          "name": "stdout",
          "text": [
            "[[3, 7], 4, [2, 5, 8]]\n",
            "[[3, 7], 0, [2, 5, 8]]\n"
          ]
        }
      ]
    },
    {
      "cell_type": "code",
      "source": [
        "deep_copy[0][1] = 9\n",
        "deep_copy[1] = 1\n",
        "print(original)\n",
        "print(deep_copy)"
      ],
      "metadata": {
        "colab": {
          "base_uri": "https://localhost:8080/"
        },
        "id": "5rChXPgEKgYQ",
        "outputId": "b74ca5c9-3c89-407f-8e67-0c5590e54944"
      },
      "execution_count": 26,
      "outputs": [
        {
          "output_type": "stream",
          "name": "stdout",
          "text": [
            "[[3, 7], 4, [2, 5, 8]]\n",
            "[[3, 9], 1, [2, 5, 8]]\n"
          ]
        }
      ]
    },
    {
      "cell_type": "markdown",
      "source": [
        "4. What are \\*args and \\**kwargs used for?"
      ],
      "metadata": {
        "id": "T_J4JZzCItCP"
      }
    },
    {
      "cell_type": "markdown",
      "source": [
        "Ans: Both \\*args and \\**kwargs used in the function parameter. \\*args allows the function to accept any number of positional arguments.\n",
        "In the other hand, \\**kwargs allows the function to accept any number of keyword arguments."
      ],
      "metadata": {
        "id": "U9CIr1iCIsw_"
      }
    },
    {
      "cell_type": "code",
      "source": [
        "def first(*args):\n",
        "  addition = 0\n",
        "  for num in args:\n",
        "    addition += num\n",
        "  return addition\n",
        "first(4, 8, 1, 9)"
      ],
      "metadata": {
        "colab": {
          "base_uri": "https://localhost:8080/"
        },
        "id": "NWtlJ2BSLHOp",
        "outputId": "2292be15-9883-447d-9c60-6e7b7a0fd8f3"
      },
      "execution_count": 29,
      "outputs": [
        {
          "output_type": "execute_result",
          "data": {
            "text/plain": [
              "22"
            ]
          },
          "metadata": {},
          "execution_count": 29
        }
      ]
    },
    {
      "cell_type": "code",
      "source": [
        "def second(**kwargs):\n",
        "  for key, value in kwargs.items():\n",
        "    print(f'{key} = {value}')\n",
        "second(name=\"Ravi\", age=25)"
      ],
      "metadata": {
        "colab": {
          "base_uri": "https://localhost:8080/"
        },
        "id": "WDH105OLLmNL",
        "outputId": "8b659fe5-fc32-4b08-ea58-c6fb3b3fa5d8"
      },
      "execution_count": 32,
      "outputs": [
        {
          "output_type": "stream",
          "name": "stdout",
          "text": [
            "name = Ravi\n",
            "age = 25\n"
          ]
        }
      ]
    },
    {
      "cell_type": "markdown",
      "source": [],
      "metadata": {
        "id": "z3IADoDxJs4O"
      }
    },
    {
      "cell_type": "markdown",
      "source": [
        "5. Explain OOP concepts: encapsulation, inheritance."
      ],
      "metadata": {
        "id": "B47Ic6-4IzOC"
      }
    },
    {
      "cell_type": "markdown",
      "source": [
        "Ans: Encapsulation means hiding internal details of the object from the outside, so that its data got protected and doesn't directly exposed. Here, we wrap variables and functions inside a class.\n",
        "\n",
        "Whereas, Inheritance means inherits properties and behaviour of other classes. So that, we can access and reuse variables and functions of the parent class."
      ],
      "metadata": {
        "id": "rzWEetFaI0-f"
      }
    }
  ]
}