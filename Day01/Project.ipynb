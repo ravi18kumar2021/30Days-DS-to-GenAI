{
  "nbformat": 4,
  "nbformat_minor": 0,
  "metadata": {
    "colab": {
      "provenance": [],
      "authorship_tag": "ABX9TyMfGoWoFDnSiOB96dajTLkX",
      "include_colab_link": true
    },
    "kernelspec": {
      "name": "python3",
      "display_name": "Python 3"
    },
    "language_info": {
      "name": "python"
    }
  },
  "cells": [
    {
      "cell_type": "markdown",
      "metadata": {
        "id": "view-in-github",
        "colab_type": "text"
      },
      "source": [
        "<a href=\"https://colab.research.google.com/github/ravi18kumar2021/30Days-DS-to-GenAI/blob/main/Day01/Project.ipynb\" target=\"_parent\"><img src=\"https://colab.research.google.com/assets/colab-badge.svg\" alt=\"Open In Colab\"/></a>"
      ]
    },
    {
      "cell_type": "markdown",
      "source": [
        "### 💻 Mini Project: CLI Tool for Even Squares Mean"
      ],
      "metadata": {
        "id": "z9ZWpay6zyyt"
      }
    },
    {
      "cell_type": "markdown",
      "source": [
        "🔎 Problem:\n",
        "Build a simple CLI tool that:\n",
        "- Takes a list of integers from the user\n",
        "- Filters even numbers\n",
        "- Squares them\n",
        "- Calculates the mean"
      ],
      "metadata": {
        "id": "3ikvlT8Zz7gi"
      }
    },
    {
      "cell_type": "code",
      "source": [
        "def mean(num_list):\n",
        "  length = len(num_list)\n",
        "  addition = 0\n",
        "  for num in num_list:\n",
        "    addition += num\n",
        "  return round(addition/length, 2)"
      ],
      "metadata": {
        "id": "ozmgGgSg3DhT"
      },
      "execution_count": 9,
      "outputs": []
    },
    {
      "cell_type": "code",
      "source": [
        "def even_square_mean():\n",
        "  user_input = input('Enter a list of numbers separated by commas : ')\n",
        "  try:\n",
        "    num_list = list(map(int, user_input.strip().split(',')))\n",
        "    even_nums = list(filter(lambda x: x%2 == 0, num_list))\n",
        "    sq_nums = list(map(lambda x: x**2, even_nums))\n",
        "    result = mean(sq_nums)\n",
        "    return even_nums, sq_nums, result, None\n",
        "  except Exception as error:\n",
        "    return (None, None, None, error)"
      ],
      "metadata": {
        "id": "ydTxVH1k4Brk"
      },
      "execution_count": 10,
      "outputs": []
    },
    {
      "cell_type": "code",
      "source": [
        "even_nums, sq_nums, result, error = even_square_mean()\n",
        "if error:\n",
        "  print('Error :', error)\n",
        "else:\n",
        "  print('Even Nums :', even_nums)\n",
        "  print('Square Nums :', sq_nums)\n",
        "  print('Mean :', result)"
      ],
      "metadata": {
        "colab": {
          "base_uri": "https://localhost:8080/"
        },
        "id": "Kt5KSvbGBHXL",
        "outputId": "2fc3827f-501c-4654-cba1-43ded9bb7b86"
      },
      "execution_count": 11,
      "outputs": [
        {
          "output_type": "stream",
          "name": "stdout",
          "text": [
            "Enter a list of numbers separated by commas : 4, 9, 3, 1, 6, 5, 8\n",
            "Even Nums : [4, 6, 8]\n",
            "Square Nums : [16, 36, 64]\n",
            "Mean : 38.67\n"
          ]
        }
      ]
    }
  ]
}