{
  "nbformat": 4,
  "nbformat_minor": 0,
  "metadata": {
    "colab": {
      "provenance": [],
      "authorship_tag": "ABX9TyPHiLRWZHS8yMwzZodXFWaF",
      "include_colab_link": true
    },
    "kernelspec": {
      "name": "python3",
      "display_name": "Python 3"
    },
    "language_info": {
      "name": "python"
    }
  },
  "cells": [
    {
      "cell_type": "markdown",
      "metadata": {
        "id": "view-in-github",
        "colab_type": "text"
      },
      "source": [
        "<a href=\"https://colab.research.google.com/github/ravi18kumar2021/30Days-DS-to-GenAI/blob/main/Day01/Project.ipynb\" target=\"_parent\"><img src=\"https://colab.research.google.com/assets/colab-badge.svg\" alt=\"Open In Colab\"/></a>"
      ]
    },
    {
      "cell_type": "markdown",
      "source": [
        "### 💻 Mini Project: CLI Tool for Even Squares Mean"
      ],
      "metadata": {
        "id": "z9ZWpay6zyyt"
      }
    },
    {
      "cell_type": "markdown",
      "source": [
        "🔎 Problem:\n",
        "Build a simple CLI tool that:\n",
        "- Takes a list of integers from the user\n",
        "- Filters even numbers\n",
        "- Squares them\n",
        "- Calculates the mean"
      ],
      "metadata": {
        "id": "3ikvlT8Zz7gi"
      }
    },
    {
      "cell_type": "code",
      "source": [
        "def mean(num_list):\n",
        "  '''\n",
        "  Returns the rounded mean value of the number list\n",
        "  '''\n",
        "  length = len(num_list)\n",
        "  addition = sum(num_list)\n",
        "  return round(addition/length, 2)"
      ],
      "metadata": {
        "id": "ozmgGgSg3DhT"
      },
      "execution_count": 1,
      "outputs": []
    },
    {
      "cell_type": "code",
      "source": [
        "def even_square_mean():\n",
        "  '''\n",
        "  Prompts user inputs, filter even numbers, sqaure them and the calculate mean\n",
        "  '''\n",
        "  user_input = input('Enter a list of numbers separated by spaces : ')\n",
        "  try:\n",
        "    num_list = list(map(int, user_input.strip().split()))\n",
        "    even_nums = list(filter(lambda x: x%2 == 0, num_list))\n",
        "    if len(even_nums) == 0:\n",
        "      raise ValueError('No even numbers provided.')\n",
        "    sq_nums = list(map(lambda x: x**2, even_nums))\n",
        "    result = mean(sq_nums)\n",
        "    return sq_nums, result, None\n",
        "  except Exception as error:\n",
        "    return None, None, error"
      ],
      "metadata": {
        "id": "ydTxVH1k4Brk"
      },
      "execution_count": 2,
      "outputs": []
    },
    {
      "cell_type": "code",
      "source": [
        "sq_nums, result, error = even_square_mean()\n",
        "if error:\n",
        "  print('Error :', error)\n",
        "else:\n",
        "  print('Even Squares :', sq_nums)\n",
        "  print('Mean :', result)"
      ],
      "metadata": {
        "colab": {
          "base_uri": "https://localhost:8080/"
        },
        "id": "Kt5KSvbGBHXL",
        "outputId": "4d520ab8-6b9b-45ee-ca69-4ddbf1298815"
      },
      "execution_count": 6,
      "outputs": [
        {
          "output_type": "stream",
          "name": "stdout",
          "text": [
            "Enter a list of numbers separated by spaces : 8 3 4 1 2 7 6\n",
            "Even Squares : [64, 16, 4, 36]\n",
            "Mean : 30.0\n"
          ]
        }
      ]
    }
  ]
}