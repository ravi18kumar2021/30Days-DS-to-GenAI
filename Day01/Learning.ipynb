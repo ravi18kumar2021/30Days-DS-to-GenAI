{
  "nbformat": 4,
  "nbformat_minor": 0,
  "metadata": {
    "colab": {
      "provenance": [],
      "authorship_tag": "ABX9TyOGxyUd0xcxNOhUEcBS1A93",
      "include_colab_link": true
    },
    "kernelspec": {
      "name": "python3",
      "display_name": "Python 3"
    },
    "language_info": {
      "name": "python"
    }
  },
  "cells": [
    {
      "cell_type": "markdown",
      "metadata": {
        "id": "view-in-github",
        "colab_type": "text"
      },
      "source": [
        "<a href=\"https://colab.research.google.com/github/ravi18kumar2021/30Days-DS-to-GenAI/blob/main/Day01/Learning.ipynb\" target=\"_parent\"><img src=\"https://colab.research.google.com/assets/colab-badge.svg\" alt=\"Open In Colab\"/></a>"
      ]
    },
    {
      "cell_type": "markdown",
      "source": [
        "### 1. Variables and Data Types"
      ],
      "metadata": {
        "id": "ajeR-3yEH-su"
      }
    },
    {
      "cell_type": "markdown",
      "source": [
        "python is dynamic typed language, so during variable initialization, we don't need to mention data type"
      ],
      "metadata": {
        "id": "_29WvuIKIhET"
      }
    },
    {
      "cell_type": "code",
      "execution_count": null,
      "metadata": {
        "id": "bIH8IGuMxULQ"
      },
      "outputs": [],
      "source": [
        "string = 'Ravi' # str\n",
        "number = 18 # int\n",
        "PI = 3.14 # float\n",
        "is_active = False # bool"
      ]
    },
    {
      "cell_type": "code",
      "source": [
        "print(type(string))\n",
        "print(type(number))\n",
        "print(type(PI))\n",
        "print(type(is_active))"
      ],
      "metadata": {
        "colab": {
          "base_uri": "https://localhost:8080/"
        },
        "id": "-6Xyjt7GIrAN",
        "outputId": "5f549920-62ff-4def-eef7-b2609418840d"
      },
      "execution_count": null,
      "outputs": [
        {
          "output_type": "stream",
          "name": "stdout",
          "text": [
            "<class 'str'>\n",
            "<class 'int'>\n",
            "<class 'float'>\n",
            "<class 'bool'>\n"
          ]
        }
      ]
    },
    {
      "cell_type": "markdown",
      "source": [
        "### 2. Basic Data Structures"
      ],
      "metadata": {
        "id": "3V7U7aOPI35r"
      }
    },
    {
      "cell_type": "markdown",
      "source": [
        "List - Ordered, mutable"
      ],
      "metadata": {
        "id": "ZAVjzcQyI-CS"
      }
    },
    {
      "cell_type": "code",
      "source": [
        "languages = ['c++', 'java', 'go', 'javascript']\n",
        "print(languages)\n",
        "languages.append('python')\n",
        "print(languages)\n",
        "print(languages[1])\n",
        "languages[2] = 'golang'\n",
        "print(languages)"
      ],
      "metadata": {
        "colab": {
          "base_uri": "https://localhost:8080/"
        },
        "id": "Y86KmwOtI1RG",
        "outputId": "a25bb198-b99b-4343-c696-47bc0f966052"
      },
      "execution_count": null,
      "outputs": [
        {
          "output_type": "stream",
          "name": "stdout",
          "text": [
            "['c++', 'java', 'go', 'javascript']\n",
            "['c++', 'java', 'go', 'javascript', 'python']\n",
            "java\n",
            "['c++', 'java', 'golang', 'javascript', 'python']\n"
          ]
        }
      ]
    },
    {
      "cell_type": "markdown",
      "source": [
        "Tuple - Ordered, Immutable"
      ],
      "metadata": {
        "id": "z5cJ0pMEJnjk"
      }
    },
    {
      "cell_type": "code",
      "source": [
        "colors = ('red', 'green', 'blue')\n",
        "print(colors)\n",
        "colors[1] = 'white' # can't modify the items\n",
        "print(colors)"
      ],
      "metadata": {
        "colab": {
          "base_uri": "https://localhost:8080/",
          "height": 211
        },
        "id": "2SM7th-3JlMX",
        "outputId": "627815fa-60a3-41df-ecde-d74951d096b3"
      },
      "execution_count": null,
      "outputs": [
        {
          "output_type": "stream",
          "name": "stdout",
          "text": [
            "('red', 'green', 'blue')\n"
          ]
        },
        {
          "output_type": "error",
          "ename": "TypeError",
          "evalue": "'tuple' object does not support item assignment",
          "traceback": [
            "\u001b[0;31m---------------------------------------------------------------------------\u001b[0m",
            "\u001b[0;31mTypeError\u001b[0m                                 Traceback (most recent call last)",
            "\u001b[0;32m/tmp/ipython-input-5-2720032815.py\u001b[0m in \u001b[0;36m<cell line: 0>\u001b[0;34m()\u001b[0m\n\u001b[1;32m      1\u001b[0m \u001b[0mcolors\u001b[0m \u001b[0;34m=\u001b[0m \u001b[0;34m(\u001b[0m\u001b[0;34m'red'\u001b[0m\u001b[0;34m,\u001b[0m \u001b[0;34m'green'\u001b[0m\u001b[0;34m,\u001b[0m \u001b[0;34m'blue'\u001b[0m\u001b[0;34m)\u001b[0m\u001b[0;34m\u001b[0m\u001b[0;34m\u001b[0m\u001b[0m\n\u001b[1;32m      2\u001b[0m \u001b[0mprint\u001b[0m\u001b[0;34m(\u001b[0m\u001b[0mcolors\u001b[0m\u001b[0;34m)\u001b[0m\u001b[0;34m\u001b[0m\u001b[0;34m\u001b[0m\u001b[0m\n\u001b[0;32m----> 3\u001b[0;31m \u001b[0mcolors\u001b[0m\u001b[0;34m[\u001b[0m\u001b[0;36m1\u001b[0m\u001b[0;34m]\u001b[0m \u001b[0;34m=\u001b[0m \u001b[0;34m'white'\u001b[0m\u001b[0;34m\u001b[0m\u001b[0;34m\u001b[0m\u001b[0m\n\u001b[0m\u001b[1;32m      4\u001b[0m \u001b[0mprint\u001b[0m\u001b[0;34m(\u001b[0m\u001b[0mcolors\u001b[0m\u001b[0;34m)\u001b[0m\u001b[0;34m\u001b[0m\u001b[0;34m\u001b[0m\u001b[0m\n",
            "\u001b[0;31mTypeError\u001b[0m: 'tuple' object does not support item assignment"
          ]
        }
      ]
    },
    {
      "cell_type": "markdown",
      "source": [
        "Set - unordered, unique"
      ],
      "metadata": {
        "id": "fTYgwkmVKREj"
      }
    },
    {
      "cell_type": "code",
      "source": [
        "home_appliances = {'TV', 'Mobile', 'Laptop', 'TV', 'Laptop', 'Refrigerator'}\n",
        "print(home_appliances)\n",
        "home_appliances.add('Fan')\n",
        "print(home_appliances)"
      ],
      "metadata": {
        "colab": {
          "base_uri": "https://localhost:8080/"
        },
        "id": "OjjS2hKuKJJQ",
        "outputId": "5ae27525-6306-4a63-fdff-954117ba1b91"
      },
      "execution_count": null,
      "outputs": [
        {
          "output_type": "stream",
          "name": "stdout",
          "text": [
            "{'TV', 'Mobile', 'Refrigerator', 'Laptop'}\n",
            "{'TV', 'Refrigerator', 'Laptop', 'Fan', 'Mobile'}\n"
          ]
        }
      ]
    },
    {
      "cell_type": "markdown",
      "source": [
        "Dictionary - key-value pairs"
      ],
      "metadata": {
        "id": "SGdUzntDLZjJ"
      }
    },
    {
      "cell_type": "code",
      "source": [
        "topper = {\n",
        "    'name' : 'Jack',\n",
        "    'class': 10,\n",
        "    'cgpa': 9.8\n",
        "}\n",
        "print(topper['name'])"
      ],
      "metadata": {
        "colab": {
          "base_uri": "https://localhost:8080/"
        },
        "id": "sBO0C4UlLPVj",
        "outputId": "57159b2a-e1f9-4bb5-a5fe-ef10c649b4ce"
      },
      "execution_count": null,
      "outputs": [
        {
          "output_type": "stream",
          "name": "stdout",
          "text": [
            "Jack\n"
          ]
        }
      ]
    },
    {
      "cell_type": "markdown",
      "source": [
        "### Loop and Conditions"
      ],
      "metadata": {
        "id": "bzqlv0EqMBDC"
      }
    },
    {
      "cell_type": "markdown",
      "source": [
        "For loop"
      ],
      "metadata": {
        "id": "fjV1f61IMEd9"
      }
    },
    {
      "cell_type": "code",
      "source": [
        "for i in range(5):\n",
        "  print(i)"
      ],
      "metadata": {
        "colab": {
          "base_uri": "https://localhost:8080/"
        },
        "id": "RojnOomDL99Y",
        "outputId": "defecc60-ec65-4d38-a69e-875bd8eeedda"
      },
      "execution_count": null,
      "outputs": [
        {
          "output_type": "stream",
          "name": "stdout",
          "text": [
            "0\n",
            "1\n",
            "2\n",
            "3\n",
            "4\n"
          ]
        }
      ]
    },
    {
      "cell_type": "markdown",
      "source": [
        "while loop"
      ],
      "metadata": {
        "id": "HLso6n63MK1P"
      }
    },
    {
      "cell_type": "code",
      "source": [
        "count = 0\n",
        "while (count < 5):\n",
        "  print(count)\n",
        "  count += 1;"
      ],
      "metadata": {
        "colab": {
          "base_uri": "https://localhost:8080/"
        },
        "id": "qfUo7hxrMJ-X",
        "outputId": "b018fd1a-a0ff-41a2-8e61-10636a0404ab"
      },
      "execution_count": null,
      "outputs": [
        {
          "output_type": "stream",
          "name": "stdout",
          "text": [
            "0\n",
            "1\n",
            "2\n",
            "3\n",
            "4\n"
          ]
        }
      ]
    },
    {
      "cell_type": "markdown",
      "source": [
        "If - else conditional statement"
      ],
      "metadata": {
        "id": "-BYOua1IMYss"
      }
    },
    {
      "cell_type": "code",
      "source": [
        "if count > 3:\n",
        "  print('num is greater')\n",
        "else:\n",
        "  print('num is smaller')"
      ],
      "metadata": {
        "colab": {
          "base_uri": "https://localhost:8080/"
        },
        "id": "0z8QD2KWMViw",
        "outputId": "0017b202-eed6-4b04-c907-0f08aeb18cea"
      },
      "execution_count": null,
      "outputs": [
        {
          "output_type": "stream",
          "name": "stdout",
          "text": [
            "num is greater\n"
          ]
        }
      ]
    },
    {
      "cell_type": "markdown",
      "source": [
        "### 4. Functions"
      ],
      "metadata": {
        "id": "oLq_NQ9pOmxr"
      }
    },
    {
      "cell_type": "code",
      "source": [
        "def addition(a, b):\n",
        "  return a + b\n",
        "addition(4, 8)"
      ],
      "metadata": {
        "colab": {
          "base_uri": "https://localhost:8080/"
        },
        "id": "LexDzFJJMmaz",
        "outputId": "7792568f-43a0-4f1d-cc16-009991236cb6"
      },
      "execution_count": null,
      "outputs": [
        {
          "output_type": "execute_result",
          "data": {
            "text/plain": [
              "12"
            ]
          },
          "metadata": {},
          "execution_count": 11
        }
      ]
    },
    {
      "cell_type": "code",
      "source": [
        "def greet(name):\n",
        "  return f'Hello {name}'\n",
        "greet('World')"
      ],
      "metadata": {
        "colab": {
          "base_uri": "https://localhost:8080/",
          "height": 35
        },
        "id": "z-xhU8CaOxAV",
        "outputId": "20376aed-2df4-479f-a84b-6ec96e0da723"
      },
      "execution_count": null,
      "outputs": [
        {
          "output_type": "execute_result",
          "data": {
            "text/plain": [
              "'Hello World'"
            ],
            "application/vnd.google.colaboratory.intrinsic+json": {
              "type": "string"
            }
          },
          "metadata": {},
          "execution_count": 12
        }
      ]
    },
    {
      "cell_type": "markdown",
      "source": [
        "### 5. List comprehension"
      ],
      "metadata": {
        "id": "LDUBf8_NO9_m"
      }
    },
    {
      "cell_type": "code",
      "source": [
        "[x**2 for x in range(1, 11)]"
      ],
      "metadata": {
        "colab": {
          "base_uri": "https://localhost:8080/"
        },
        "id": "jmGhieTeO7BC",
        "outputId": "06ef1fe9-91db-4ad9-ed65-6fe8f8c15607"
      },
      "execution_count": null,
      "outputs": [
        {
          "output_type": "execute_result",
          "data": {
            "text/plain": [
              "[1, 4, 9, 16, 25, 36, 49, 64, 81, 100]"
            ]
          },
          "metadata": {},
          "execution_count": 13
        }
      ]
    },
    {
      "cell_type": "markdown",
      "source": [
        "### 6. lambda, map(), filter(), reduce()"
      ],
      "metadata": {
        "id": "lfhifAUXQM1m"
      }
    },
    {
      "cell_type": "code",
      "source": [
        "nums = [2, 5, 1, 9, 6]"
      ],
      "metadata": {
        "id": "D-u2QdzkPgAC"
      },
      "execution_count": null,
      "outputs": []
    },
    {
      "cell_type": "code",
      "source": [
        "list(map(lambda x: x**2, nums))"
      ],
      "metadata": {
        "colab": {
          "base_uri": "https://localhost:8080/"
        },
        "id": "bBvj1uDnQc7_",
        "outputId": "f374648e-ec61-4f60-b516-803aa711b1dc"
      },
      "execution_count": null,
      "outputs": [
        {
          "output_type": "execute_result",
          "data": {
            "text/plain": [
              "[4, 25, 1, 81, 36]"
            ]
          },
          "metadata": {},
          "execution_count": 17
        }
      ]
    },
    {
      "cell_type": "code",
      "source": [
        "list(filter(lambda x: x < 5, nums))"
      ],
      "metadata": {
        "colab": {
          "base_uri": "https://localhost:8080/"
        },
        "id": "wzK1KI1bQhys",
        "outputId": "1ce944d9-022b-4861-f970-e9ad48382de0"
      },
      "execution_count": null,
      "outputs": [
        {
          "output_type": "execute_result",
          "data": {
            "text/plain": [
              "[2, 1]"
            ]
          },
          "metadata": {},
          "execution_count": 19
        }
      ]
    },
    {
      "cell_type": "code",
      "source": [
        "from functools import reduce\n",
        "reduce(lambda x, y: x*y, nums)"
      ],
      "metadata": {
        "colab": {
          "base_uri": "https://localhost:8080/"
        },
        "id": "9RX44RcIQt0r",
        "outputId": "a3e1ade6-11cd-48ac-8800-d1d9d1f03f93"
      },
      "execution_count": null,
      "outputs": [
        {
          "output_type": "execute_result",
          "data": {
            "text/plain": [
              "540"
            ]
          },
          "metadata": {},
          "execution_count": 20
        }
      ]
    },
    {
      "cell_type": "markdown",
      "source": [
        "### 7. Error Handling"
      ],
      "metadata": {
        "id": "Q7_5Ds5-RG32"
      }
    },
    {
      "cell_type": "code",
      "source": [
        "try:\n",
        "  a = 5/0\n",
        "except ZeroDivisionError:\n",
        "  print(\"You can't divide by zero\")\n",
        "finally:\n",
        "  print('Error handled')"
      ],
      "metadata": {
        "colab": {
          "base_uri": "https://localhost:8080/"
        },
        "id": "UQcVWQdiRA2J",
        "outputId": "06fa91d7-bab3-433c-b0b5-d9073afcffa8"
      },
      "execution_count": null,
      "outputs": [
        {
          "output_type": "stream",
          "name": "stdout",
          "text": [
            "You can't divide by zero\n",
            "Error handled\n"
          ]
        }
      ]
    },
    {
      "cell_type": "markdown",
      "source": [
        "### 8. OOPs Basics"
      ],
      "metadata": {
        "id": "L5q2r9RaRk9H"
      }
    },
    {
      "cell_type": "code",
      "source": [
        "class Animal:\n",
        "  def __init__(self):\n",
        "    print('Animal constructor')\n",
        "  def legs(self):\n",
        "    print('Has four legs')\n",
        "\n",
        "class Dog(Animal):\n",
        "  def __init__(self):\n",
        "    super().__init__()\n",
        "    print('Dog constructor')\n",
        "\n",
        "d = Dog()\n",
        "d.legs()"
      ],
      "metadata": {
        "colab": {
          "base_uri": "https://localhost:8080/"
        },
        "id": "2HjJN0SYRgNH",
        "outputId": "01427d30-4a40-4603-98de-2ed36aab2cc7"
      },
      "execution_count": null,
      "outputs": [
        {
          "output_type": "stream",
          "name": "stdout",
          "text": [
            "Animal constructor\n",
            "Dog constructor\n",
            "Has four legs\n"
          ]
        }
      ]
    },
    {
      "cell_type": "markdown",
      "source": [
        "### 9. File I/O"
      ],
      "metadata": {
        "id": "ZZho2iNxS-AH"
      }
    },
    {
      "cell_type": "code",
      "source": [
        "# write a file\n",
        "with(open('data.txt', 'w') as file):\n",
        "  file.write('This is a sample text')"
      ],
      "metadata": {
        "id": "PJXQtVDOSITf"
      },
      "execution_count": null,
      "outputs": []
    },
    {
      "cell_type": "code",
      "source": [
        "# read a file\n",
        "with(open('data.txt', 'r') as file):\n",
        "  data = file.read()"
      ],
      "metadata": {
        "id": "AuSZyEM3TOTT"
      },
      "execution_count": null,
      "outputs": []
    },
    {
      "cell_type": "code",
      "source": [
        "data"
      ],
      "metadata": {
        "id": "GQSurhlsTdZQ",
        "outputId": "01fb7ef7-cdc8-4eae-d820-d6145737c829",
        "colab": {
          "base_uri": "https://localhost:8080/",
          "height": 35
        }
      },
      "execution_count": null,
      "outputs": [
        {
          "output_type": "execute_result",
          "data": {
            "text/plain": [
              "'This is a sample text'"
            ],
            "application/vnd.google.colaboratory.intrinsic+json": {
              "type": "string"
            }
          },
          "metadata": {},
          "execution_count": 28
        }
      ]
    },
    {
      "cell_type": "code",
      "source": [],
      "metadata": {
        "id": "5fPNO6F0Td8I"
      },
      "execution_count": null,
      "outputs": []
    }
  ]
}