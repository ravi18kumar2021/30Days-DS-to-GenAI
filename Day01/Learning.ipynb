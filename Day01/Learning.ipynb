{
  "nbformat": 4,
  "nbformat_minor": 0,
  "metadata": {
    "colab": {
      "provenance": [],
      "authorship_tag": "ABX9TyNRnvkKz384zYWOYIB2lQ0I",
      "include_colab_link": true
    },
    "kernelspec": {
      "name": "python3",
      "display_name": "Python 3"
    },
    "language_info": {
      "name": "python"
    }
  },
  "cells": [
    {
      "cell_type": "markdown",
      "metadata": {
        "id": "view-in-github",
        "colab_type": "text"
      },
      "source": [
        "<a href=\"https://colab.research.google.com/github/ravi18kumar2021/30Days-DS-to-GenAI/blob/main/Day01/Learning.ipynb\" target=\"_parent\"><img src=\"https://colab.research.google.com/assets/colab-badge.svg\" alt=\"Open In Colab\"/></a>"
      ]
    },
    {
      "cell_type": "markdown",
      "source": [
        "### 1. Variables and Data Types"
      ],
      "metadata": {
        "id": "ajeR-3yEH-su"
      }
    },
    {
      "cell_type": "markdown",
      "source": [
        "Python is dynamic typed language, so during variable initialization, we don't need to mention data type"
      ],
      "metadata": {
        "id": "_29WvuIKIhET"
      }
    },
    {
      "cell_type": "code",
      "execution_count": 1,
      "metadata": {
        "id": "bIH8IGuMxULQ"
      },
      "outputs": [],
      "source": [
        "string = 'Ravi' # str\n",
        "number = 18 # int\n",
        "PI = 3.14 # float\n",
        "is_active = False # bool"
      ]
    },
    {
      "cell_type": "code",
      "source": [
        "print(type(string))\n",
        "print(type(number))\n",
        "print(type(PI))\n",
        "print(type(is_active))"
      ],
      "metadata": {
        "colab": {
          "base_uri": "https://localhost:8080/"
        },
        "id": "-6Xyjt7GIrAN",
        "outputId": "1b603fb6-9dee-4c23-8ebe-1cb2e817537a"
      },
      "execution_count": 2,
      "outputs": [
        {
          "output_type": "stream",
          "name": "stdout",
          "text": [
            "<class 'str'>\n",
            "<class 'int'>\n",
            "<class 'float'>\n",
            "<class 'bool'>\n"
          ]
        }
      ]
    },
    {
      "cell_type": "markdown",
      "source": [
        "### 2. Basic Data Structures"
      ],
      "metadata": {
        "id": "3V7U7aOPI35r"
      }
    },
    {
      "cell_type": "markdown",
      "source": [
        "List - Ordered, mutable"
      ],
      "metadata": {
        "id": "ZAVjzcQyI-CS"
      }
    },
    {
      "cell_type": "code",
      "source": [
        "languages = ['c++', 'java', 'go', 'javascript']\n",
        "print(languages)\n",
        "languages.append('python')\n",
        "print(languages)\n",
        "print(languages[1])\n",
        "languages[2] = 'golang'\n",
        "print(languages)"
      ],
      "metadata": {
        "colab": {
          "base_uri": "https://localhost:8080/"
        },
        "id": "Y86KmwOtI1RG",
        "outputId": "1c09e96f-9768-4ed8-ed38-04c46710e417"
      },
      "execution_count": 3,
      "outputs": [
        {
          "output_type": "stream",
          "name": "stdout",
          "text": [
            "['c++', 'java', 'go', 'javascript']\n",
            "['c++', 'java', 'go', 'javascript', 'python']\n",
            "java\n",
            "['c++', 'java', 'golang', 'javascript', 'python']\n"
          ]
        }
      ]
    },
    {
      "cell_type": "markdown",
      "source": [
        "Tuple - Ordered, Immutable"
      ],
      "metadata": {
        "id": "z5cJ0pMEJnjk"
      }
    },
    {
      "cell_type": "code",
      "source": [
        "colors = ('red', 'green', 'blue')\n",
        "print(colors)\n",
        "colors[1] = 'white' # can't modify the items\n",
        "print(colors)"
      ],
      "metadata": {
        "colab": {
          "base_uri": "https://localhost:8080/",
          "height": 211
        },
        "id": "2SM7th-3JlMX",
        "outputId": "9f40710f-d6ff-4ab3-bdcd-d9e6a7ef2ef8"
      },
      "execution_count": 4,
      "outputs": [
        {
          "output_type": "stream",
          "name": "stdout",
          "text": [
            "('red', 'green', 'blue')\n"
          ]
        },
        {
          "output_type": "error",
          "ename": "TypeError",
          "evalue": "'tuple' object does not support item assignment",
          "traceback": [
            "\u001b[0;31m---------------------------------------------------------------------------\u001b[0m",
            "\u001b[0;31mTypeError\u001b[0m                                 Traceback (most recent call last)",
            "\u001b[0;32m/tmp/ipython-input-4-2685901129.py\u001b[0m in \u001b[0;36m<cell line: 0>\u001b[0;34m()\u001b[0m\n\u001b[1;32m      1\u001b[0m \u001b[0mcolors\u001b[0m \u001b[0;34m=\u001b[0m \u001b[0;34m(\u001b[0m\u001b[0;34m'red'\u001b[0m\u001b[0;34m,\u001b[0m \u001b[0;34m'green'\u001b[0m\u001b[0;34m,\u001b[0m \u001b[0;34m'blue'\u001b[0m\u001b[0;34m)\u001b[0m\u001b[0;34m\u001b[0m\u001b[0;34m\u001b[0m\u001b[0m\n\u001b[1;32m      2\u001b[0m \u001b[0mprint\u001b[0m\u001b[0;34m(\u001b[0m\u001b[0mcolors\u001b[0m\u001b[0;34m)\u001b[0m\u001b[0;34m\u001b[0m\u001b[0;34m\u001b[0m\u001b[0m\n\u001b[0;32m----> 3\u001b[0;31m \u001b[0mcolors\u001b[0m\u001b[0;34m[\u001b[0m\u001b[0;36m1\u001b[0m\u001b[0;34m]\u001b[0m \u001b[0;34m=\u001b[0m \u001b[0;34m'white'\u001b[0m \u001b[0;31m# can't modify the items\u001b[0m\u001b[0;34m\u001b[0m\u001b[0;34m\u001b[0m\u001b[0m\n\u001b[0m\u001b[1;32m      4\u001b[0m \u001b[0mprint\u001b[0m\u001b[0;34m(\u001b[0m\u001b[0mcolors\u001b[0m\u001b[0;34m)\u001b[0m\u001b[0;34m\u001b[0m\u001b[0;34m\u001b[0m\u001b[0m\n",
            "\u001b[0;31mTypeError\u001b[0m: 'tuple' object does not support item assignment"
          ]
        }
      ]
    },
    {
      "cell_type": "markdown",
      "source": [
        "Set - unordered, unique"
      ],
      "metadata": {
        "id": "fTYgwkmVKREj"
      }
    },
    {
      "cell_type": "code",
      "source": [
        "home_appliances = {'TV', 'Mobile', 'Laptop', 'TV', 'Laptop', 'Refrigerator'}\n",
        "print(home_appliances)\n",
        "home_appliances.add('Fan')\n",
        "print(home_appliances)"
      ],
      "metadata": {
        "colab": {
          "base_uri": "https://localhost:8080/"
        },
        "id": "OjjS2hKuKJJQ",
        "outputId": "db88fc53-ac99-432a-8183-5038057f0de1"
      },
      "execution_count": 5,
      "outputs": [
        {
          "output_type": "stream",
          "name": "stdout",
          "text": [
            "{'Laptop', 'Refrigerator', 'TV', 'Mobile'}\n",
            "{'Mobile', 'Refrigerator', 'TV', 'Laptop', 'Fan'}\n"
          ]
        }
      ]
    },
    {
      "cell_type": "markdown",
      "source": [
        "Dictionary - key-value pairs"
      ],
      "metadata": {
        "id": "SGdUzntDLZjJ"
      }
    },
    {
      "cell_type": "code",
      "source": [
        "topper = {\n",
        "    'name' : 'Jack',\n",
        "    'class': 10,\n",
        "    'cgpa': 9.8\n",
        "}\n",
        "print(topper['name'])"
      ],
      "metadata": {
        "colab": {
          "base_uri": "https://localhost:8080/"
        },
        "id": "sBO0C4UlLPVj",
        "outputId": "328231ef-1991-463a-b22a-0fb5890c619e"
      },
      "execution_count": 6,
      "outputs": [
        {
          "output_type": "stream",
          "name": "stdout",
          "text": [
            "Jack\n"
          ]
        }
      ]
    },
    {
      "cell_type": "markdown",
      "source": [
        "### Loop and Conditions"
      ],
      "metadata": {
        "id": "bzqlv0EqMBDC"
      }
    },
    {
      "cell_type": "markdown",
      "source": [
        "For loop"
      ],
      "metadata": {
        "id": "fjV1f61IMEd9"
      }
    },
    {
      "cell_type": "code",
      "source": [
        "for i in range(5):\n",
        "  print(i)"
      ],
      "metadata": {
        "colab": {
          "base_uri": "https://localhost:8080/"
        },
        "id": "RojnOomDL99Y",
        "outputId": "63f473b3-ae1c-4197-aba3-ea601ee37793"
      },
      "execution_count": 7,
      "outputs": [
        {
          "output_type": "stream",
          "name": "stdout",
          "text": [
            "0\n",
            "1\n",
            "2\n",
            "3\n",
            "4\n"
          ]
        }
      ]
    },
    {
      "cell_type": "markdown",
      "source": [
        "while loop"
      ],
      "metadata": {
        "id": "HLso6n63MK1P"
      }
    },
    {
      "cell_type": "code",
      "source": [
        "count = 0\n",
        "while (count < 5):\n",
        "  print(count)\n",
        "  count += 1;"
      ],
      "metadata": {
        "colab": {
          "base_uri": "https://localhost:8080/"
        },
        "id": "qfUo7hxrMJ-X",
        "outputId": "e88095a7-c6ca-4501-a95f-1112ec2727e9"
      },
      "execution_count": 8,
      "outputs": [
        {
          "output_type": "stream",
          "name": "stdout",
          "text": [
            "0\n",
            "1\n",
            "2\n",
            "3\n",
            "4\n"
          ]
        }
      ]
    },
    {
      "cell_type": "markdown",
      "source": [
        "If - else conditional statement"
      ],
      "metadata": {
        "id": "-BYOua1IMYss"
      }
    },
    {
      "cell_type": "code",
      "source": [
        "if count > 3:\n",
        "  print('num is greater')\n",
        "else:\n",
        "  print('num is smaller')"
      ],
      "metadata": {
        "colab": {
          "base_uri": "https://localhost:8080/"
        },
        "id": "0z8QD2KWMViw",
        "outputId": "76f8b7c0-a809-44d0-d99b-c67b1dac9dae"
      },
      "execution_count": 9,
      "outputs": [
        {
          "output_type": "stream",
          "name": "stdout",
          "text": [
            "num is greater\n"
          ]
        }
      ]
    },
    {
      "cell_type": "markdown",
      "source": [
        "### 4. Functions"
      ],
      "metadata": {
        "id": "oLq_NQ9pOmxr"
      }
    },
    {
      "cell_type": "code",
      "source": [
        "def addition(a, b):\n",
        "  return a + b\n",
        "addition(4, 8)"
      ],
      "metadata": {
        "colab": {
          "base_uri": "https://localhost:8080/"
        },
        "id": "LexDzFJJMmaz",
        "outputId": "bee6ddf2-b1c7-44ec-ba0a-99a2663020ae"
      },
      "execution_count": 10,
      "outputs": [
        {
          "output_type": "execute_result",
          "data": {
            "text/plain": [
              "12"
            ]
          },
          "metadata": {},
          "execution_count": 10
        }
      ]
    },
    {
      "cell_type": "code",
      "source": [
        "def greet(name):\n",
        "  return f'Hello {name}'\n",
        "greet('World')"
      ],
      "metadata": {
        "colab": {
          "base_uri": "https://localhost:8080/",
          "height": 35
        },
        "id": "z-xhU8CaOxAV",
        "outputId": "05d8f63c-fab5-415b-f190-6c14f082bcda"
      },
      "execution_count": 11,
      "outputs": [
        {
          "output_type": "execute_result",
          "data": {
            "text/plain": [
              "'Hello World'"
            ],
            "application/vnd.google.colaboratory.intrinsic+json": {
              "type": "string"
            }
          },
          "metadata": {},
          "execution_count": 11
        }
      ]
    },
    {
      "cell_type": "markdown",
      "source": [
        "### 5. List comprehension"
      ],
      "metadata": {
        "id": "LDUBf8_NO9_m"
      }
    },
    {
      "cell_type": "code",
      "source": [
        "[x**2 for x in range(1, 11)]"
      ],
      "metadata": {
        "colab": {
          "base_uri": "https://localhost:8080/"
        },
        "id": "jmGhieTeO7BC",
        "outputId": "e294fefb-de6f-4dde-8bfb-ba3b85c3533a"
      },
      "execution_count": 12,
      "outputs": [
        {
          "output_type": "execute_result",
          "data": {
            "text/plain": [
              "[1, 4, 9, 16, 25, 36, 49, 64, 81, 100]"
            ]
          },
          "metadata": {},
          "execution_count": 12
        }
      ]
    },
    {
      "cell_type": "markdown",
      "source": [
        "### 6. lambda, map(), filter(), reduce()"
      ],
      "metadata": {
        "id": "lfhifAUXQM1m"
      }
    },
    {
      "cell_type": "code",
      "source": [
        "nums = [2, 5, 1, 9, 6]"
      ],
      "metadata": {
        "id": "D-u2QdzkPgAC"
      },
      "execution_count": 13,
      "outputs": []
    },
    {
      "cell_type": "code",
      "source": [
        "list(map(lambda x: x**2, nums))"
      ],
      "metadata": {
        "colab": {
          "base_uri": "https://localhost:8080/"
        },
        "id": "bBvj1uDnQc7_",
        "outputId": "ce5af392-0e7e-4408-8bbe-e461bab44849"
      },
      "execution_count": 14,
      "outputs": [
        {
          "output_type": "execute_result",
          "data": {
            "text/plain": [
              "[4, 25, 1, 81, 36]"
            ]
          },
          "metadata": {},
          "execution_count": 14
        }
      ]
    },
    {
      "cell_type": "code",
      "source": [
        "list(filter(lambda x: x < 5, nums))"
      ],
      "metadata": {
        "colab": {
          "base_uri": "https://localhost:8080/"
        },
        "id": "wzK1KI1bQhys",
        "outputId": "fb6b44d8-82fa-4020-e69a-9f6f1bae8eb1"
      },
      "execution_count": 15,
      "outputs": [
        {
          "output_type": "execute_result",
          "data": {
            "text/plain": [
              "[2, 1]"
            ]
          },
          "metadata": {},
          "execution_count": 15
        }
      ]
    },
    {
      "cell_type": "code",
      "source": [
        "from functools import reduce\n",
        "reduce(lambda x, y: x*y, nums)"
      ],
      "metadata": {
        "colab": {
          "base_uri": "https://localhost:8080/"
        },
        "id": "9RX44RcIQt0r",
        "outputId": "a70ebb68-30a6-44a5-d2ba-724d8af8e4d4"
      },
      "execution_count": 16,
      "outputs": [
        {
          "output_type": "execute_result",
          "data": {
            "text/plain": [
              "540"
            ]
          },
          "metadata": {},
          "execution_count": 16
        }
      ]
    },
    {
      "cell_type": "markdown",
      "source": [
        "### 7. Error Handling"
      ],
      "metadata": {
        "id": "Q7_5Ds5-RG32"
      }
    },
    {
      "cell_type": "code",
      "source": [
        "try:\n",
        "  a = 5/0\n",
        "except ZeroDivisionError:\n",
        "  print(\"You can't divide by zero\")\n",
        "finally:\n",
        "  print('Error handled')"
      ],
      "metadata": {
        "colab": {
          "base_uri": "https://localhost:8080/"
        },
        "id": "UQcVWQdiRA2J",
        "outputId": "076ea9f8-ceb5-446e-f855-cea3dd72b892"
      },
      "execution_count": 17,
      "outputs": [
        {
          "output_type": "stream",
          "name": "stdout",
          "text": [
            "You can't divide by zero\n",
            "Error handled\n"
          ]
        }
      ]
    },
    {
      "cell_type": "markdown",
      "source": [
        "### 8. OOPs Basics"
      ],
      "metadata": {
        "id": "L5q2r9RaRk9H"
      }
    },
    {
      "cell_type": "code",
      "source": [
        "class Person():\n",
        "  def __init__(self, name, age):\n",
        "    self.name = name\n",
        "    self.age = age\n",
        "\n",
        "  def voting_eligibility(self):\n",
        "    if self.age >= 18:\n",
        "      return 'You can vote'\n",
        "    else:\n",
        "      return 'You cannot vote'\n",
        "\n",
        "p = Person('Ravi', 25)\n",
        "p.voting_eligibility()"
      ],
      "metadata": {
        "colab": {
          "base_uri": "https://localhost:8080/",
          "height": 35
        },
        "id": "UHHFHEdXwbvv",
        "outputId": "1068e64d-78f5-4c21-9aa5-b059d5a132de"
      },
      "execution_count": 18,
      "outputs": [
        {
          "output_type": "execute_result",
          "data": {
            "text/plain": [
              "'You can vote'"
            ],
            "application/vnd.google.colaboratory.intrinsic+json": {
              "type": "string"
            }
          },
          "metadata": {},
          "execution_count": 18
        }
      ]
    },
    {
      "cell_type": "code",
      "source": [
        "class Animal():\n",
        "  def __init__(self):\n",
        "    print('Animal constructor')\n",
        "  def legs(self):\n",
        "    print('Has four legs')\n",
        "\n",
        "class Dog(Animal):\n",
        "  def __init__(self):\n",
        "    super().__init__()\n",
        "    print('Dog constructor')\n",
        "\n",
        "d = Dog()\n",
        "d.legs()"
      ],
      "metadata": {
        "colab": {
          "base_uri": "https://localhost:8080/"
        },
        "id": "2HjJN0SYRgNH",
        "outputId": "53eda88f-5368-4b6b-c87a-4e9ad40f19a8"
      },
      "execution_count": 19,
      "outputs": [
        {
          "output_type": "stream",
          "name": "stdout",
          "text": [
            "Animal constructor\n",
            "Dog constructor\n",
            "Has four legs\n"
          ]
        }
      ]
    },
    {
      "cell_type": "markdown",
      "source": [
        "### 9. File I/O"
      ],
      "metadata": {
        "id": "ZZho2iNxS-AH"
      }
    },
    {
      "cell_type": "code",
      "source": [
        "# write a file\n",
        "with(open('data.txt', 'w') as file):\n",
        "  file.write('This is a sample text')"
      ],
      "metadata": {
        "id": "PJXQtVDOSITf"
      },
      "execution_count": 20,
      "outputs": []
    },
    {
      "cell_type": "code",
      "source": [
        "# read a file\n",
        "with(open('data.txt', 'r') as file):\n",
        "  data = file.read()"
      ],
      "metadata": {
        "id": "AuSZyEM3TOTT"
      },
      "execution_count": 21,
      "outputs": []
    },
    {
      "cell_type": "code",
      "source": [
        "data"
      ],
      "metadata": {
        "id": "GQSurhlsTdZQ",
        "outputId": "3a6941d7-8587-4ea8-c29c-58139f436372",
        "colab": {
          "base_uri": "https://localhost:8080/",
          "height": 35
        }
      },
      "execution_count": 22,
      "outputs": [
        {
          "output_type": "execute_result",
          "data": {
            "text/plain": [
              "'This is a sample text'"
            ],
            "application/vnd.google.colaboratory.intrinsic+json": {
              "type": "string"
            }
          },
          "metadata": {},
          "execution_count": 22
        }
      ]
    }
  ]
}